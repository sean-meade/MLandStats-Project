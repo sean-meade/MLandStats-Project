{
 "cells": [
  {
   "cell_type": "markdown",
   "metadata": {},
   "source": [
    "### Plan (draft 1):\n",
    "- Choose model\n",
    "- Explain model\n",
    "- Train model on data set\n",
    "- Analyize accuracy.\n",
    "- Write Python script to run web service\n",
    "- Docker file\n",
    "- README.md"
   ]
  },
  {
   "cell_type": "code",
   "execution_count": 50,
   "metadata": {},
   "outputs": [],
   "source": [
    "import pandas as pd\n",
    "import numpy as np\n",
    "from sklearn.neighbors import RadiusNeighborsRegressor\n",
    "from sklearn.neighbors import KNeighborsRegressor"
   ]
  },
  {
   "cell_type": "code",
   "execution_count": 2,
   "metadata": {},
   "outputs": [
    {
     "data": {
      "text/html": [
       "<div>\n",
       "<style scoped>\n",
       "    .dataframe tbody tr th:only-of-type {\n",
       "        vertical-align: middle;\n",
       "    }\n",
       "\n",
       "    .dataframe tbody tr th {\n",
       "        vertical-align: top;\n",
       "    }\n",
       "\n",
       "    .dataframe thead th {\n",
       "        text-align: right;\n",
       "    }\n",
       "</style>\n",
       "<table border=\"1\" class=\"dataframe\">\n",
       "  <thead>\n",
       "    <tr style=\"text-align: right;\">\n",
       "      <th></th>\n",
       "      <th>speed</th>\n",
       "      <th>power</th>\n",
       "    </tr>\n",
       "  </thead>\n",
       "  <tbody>\n",
       "    <tr>\n",
       "      <th>0</th>\n",
       "      <td>0.000</td>\n",
       "      <td>0.0</td>\n",
       "    </tr>\n",
       "    <tr>\n",
       "      <th>1</th>\n",
       "      <td>0.125</td>\n",
       "      <td>0.0</td>\n",
       "    </tr>\n",
       "    <tr>\n",
       "      <th>2</th>\n",
       "      <td>0.150</td>\n",
       "      <td>0.0</td>\n",
       "    </tr>\n",
       "    <tr>\n",
       "      <th>3</th>\n",
       "      <td>0.225</td>\n",
       "      <td>0.0</td>\n",
       "    </tr>\n",
       "    <tr>\n",
       "      <th>4</th>\n",
       "      <td>0.275</td>\n",
       "      <td>0.0</td>\n",
       "    </tr>\n",
       "    <tr>\n",
       "      <th>...</th>\n",
       "      <td>...</td>\n",
       "      <td>...</td>\n",
       "    </tr>\n",
       "    <tr>\n",
       "      <th>495</th>\n",
       "      <td>24.775</td>\n",
       "      <td>0.0</td>\n",
       "    </tr>\n",
       "    <tr>\n",
       "      <th>496</th>\n",
       "      <td>24.850</td>\n",
       "      <td>0.0</td>\n",
       "    </tr>\n",
       "    <tr>\n",
       "      <th>497</th>\n",
       "      <td>24.875</td>\n",
       "      <td>0.0</td>\n",
       "    </tr>\n",
       "    <tr>\n",
       "      <th>498</th>\n",
       "      <td>24.950</td>\n",
       "      <td>0.0</td>\n",
       "    </tr>\n",
       "    <tr>\n",
       "      <th>499</th>\n",
       "      <td>25.000</td>\n",
       "      <td>0.0</td>\n",
       "    </tr>\n",
       "  </tbody>\n",
       "</table>\n",
       "<p>500 rows × 2 columns</p>\n",
       "</div>"
      ],
      "text/plain": [
       "      speed  power\n",
       "0     0.000    0.0\n",
       "1     0.125    0.0\n",
       "2     0.150    0.0\n",
       "3     0.225    0.0\n",
       "4     0.275    0.0\n",
       "..      ...    ...\n",
       "495  24.775    0.0\n",
       "496  24.850    0.0\n",
       "497  24.875    0.0\n",
       "498  24.950    0.0\n",
       "499  25.000    0.0\n",
       "\n",
       "[500 rows x 2 columns]"
      ]
     },
     "execution_count": 2,
     "metadata": {},
     "output_type": "execute_result"
    }
   ],
   "source": [
    "df = pd.read_csv(\"powerproduction.csv\")\n",
    "df"
   ]
  },
  {
   "cell_type": "code",
   "execution_count": 3,
   "metadata": {},
   "outputs": [
    {
     "data": {
      "text/html": [
       "<div>\n",
       "<style scoped>\n",
       "    .dataframe tbody tr th:only-of-type {\n",
       "        vertical-align: middle;\n",
       "    }\n",
       "\n",
       "    .dataframe tbody tr th {\n",
       "        vertical-align: top;\n",
       "    }\n",
       "\n",
       "    .dataframe thead th {\n",
       "        text-align: right;\n",
       "    }\n",
       "</style>\n",
       "<table border=\"1\" class=\"dataframe\">\n",
       "  <thead>\n",
       "    <tr style=\"text-align: right;\">\n",
       "      <th></th>\n",
       "      <th>speed</th>\n",
       "      <th>power</th>\n",
       "    </tr>\n",
       "  </thead>\n",
       "  <tbody>\n",
       "    <tr>\n",
       "      <th>5</th>\n",
       "      <td>0.325</td>\n",
       "      <td>4.331</td>\n",
       "    </tr>\n",
       "    <tr>\n",
       "      <th>6</th>\n",
       "      <td>0.400</td>\n",
       "      <td>5.186</td>\n",
       "    </tr>\n",
       "    <tr>\n",
       "      <th>7</th>\n",
       "      <td>0.450</td>\n",
       "      <td>3.826</td>\n",
       "    </tr>\n",
       "    <tr>\n",
       "      <th>8</th>\n",
       "      <td>0.501</td>\n",
       "      <td>1.048</td>\n",
       "    </tr>\n",
       "    <tr>\n",
       "      <th>9</th>\n",
       "      <td>0.526</td>\n",
       "      <td>5.553</td>\n",
       "    </tr>\n",
       "    <tr>\n",
       "      <th>...</th>\n",
       "      <td>...</td>\n",
       "      <td>...</td>\n",
       "    </tr>\n",
       "    <tr>\n",
       "      <th>485</th>\n",
       "      <td>24.249</td>\n",
       "      <td>103.700</td>\n",
       "    </tr>\n",
       "    <tr>\n",
       "      <th>486</th>\n",
       "      <td>24.299</td>\n",
       "      <td>93.694</td>\n",
       "    </tr>\n",
       "    <tr>\n",
       "      <th>487</th>\n",
       "      <td>24.349</td>\n",
       "      <td>93.078</td>\n",
       "    </tr>\n",
       "    <tr>\n",
       "      <th>488</th>\n",
       "      <td>24.374</td>\n",
       "      <td>98.223</td>\n",
       "    </tr>\n",
       "    <tr>\n",
       "      <th>489</th>\n",
       "      <td>24.399</td>\n",
       "      <td>95.117</td>\n",
       "    </tr>\n",
       "  </tbody>\n",
       "</table>\n",
       "<p>451 rows × 2 columns</p>\n",
       "</div>"
      ],
      "text/plain": [
       "      speed    power\n",
       "5     0.325    4.331\n",
       "6     0.400    5.186\n",
       "7     0.450    3.826\n",
       "8     0.501    1.048\n",
       "9     0.526    5.553\n",
       "..      ...      ...\n",
       "485  24.249  103.700\n",
       "486  24.299   93.694\n",
       "487  24.349   93.078\n",
       "488  24.374   98.223\n",
       "489  24.399   95.117\n",
       "\n",
       "[451 rows x 2 columns]"
      ]
     },
     "execution_count": 3,
     "metadata": {},
     "output_type": "execute_result"
    }
   ],
   "source": [
    "df = df[df.power != 0]\n",
    "df\n",
    "\n",
    "#[] grepper.com, \"delete row with zero value in a column pyton; Code Answer\n",
    "#\", https://www.codegrepper.com/code-examples/delphi/delete+row+with+zero+value+in+a+column+pyton"
   ]
  },
  {
   "cell_type": "code",
   "execution_count": 4,
   "metadata": {},
   "outputs": [],
   "source": [
    "import matplotlib.pyplot as plt"
   ]
  },
  {
   "cell_type": "code",
   "execution_count": 5,
   "metadata": {},
   "outputs": [
    {
     "data": {
      "image/png": "[encoded data removed]",
      "text/plain": [
       "<Figure size 432x288 with 1 Axes>"
      ]
     },
     "metadata": {
      "needs_background": "light"
     },
     "output_type": "display_data"
    }
   ],
   "source": [
    "plt.scatter(df[\"speed\"], df[\"power\"])\n",
    "plt.show()"
   ]
  },
  {
   "cell_type": "code",
   "execution_count": 6,
   "metadata": {},
   "outputs": [],
   "source": [
    "def simpleLinearRegression(independentVars, dependentVars):\n",
    "    # distance in meters\n",
    "    y = dependentVars\n",
    "    # time in seconds\n",
    "    x  = independentVars\n",
    "\n",
    "    yhat = []\n",
    "    errors = []\n",
    "\n",
    "    b1 = (sum(y)*sum(x) - len(x)*(sum(y)/len(y))*(sum(x)/len(x)))/((sum(x))**2- (len(x)*(sum(x)/len(x))*(sum(x)/len(x))))\n",
    "\n",
    "    b0 = (sum(y)/len(y)) - b1*(sum(x)/len(x))\n",
    "    \n",
    "    for i in range(0, len(x)):\n",
    "        yhat.append(b1*x[i] + b0)\n",
    "        errors.append((y[i] - yhat[i])**2)\n",
    "        \n",
    "    accuarcy = sum(errors)\n",
    "    print(accuarcy)\n",
    "        \n",
    "    plt.scatter(x, y, c=\"r\")    \n",
    "    plt.plot(x, yhat, c=\"m\")"
   ]
  },
  {
   "cell_type": "code",
   "execution_count": 7,
   "metadata": {},
   "outputs": [],
   "source": [
    "import matplotlib.pyplot as plt\n",
    "import csv\n",
    "import numpy as np\n",
    "\n",
    "\n",
    "with open('powerproduction.csv', 'r', newline='') as file:\n",
    "    has_header = csv.Sniffer().has_header(file.read(1024))\n",
    "    file.seek(0)  # Rewind.\n",
    "    reader = csv.reader(file)\n",
    "    if has_header:\n",
    "        next(reader)\n",
    "    your_list = list(reader)\n",
    "\n",
    "independentVars = []\n",
    "dependentVars = []\n",
    "\n",
    "for i in range(len(your_list)):\n",
    "    independentVars.append(float(your_list[i][0]))\n",
    "    dependentVars.append(float(your_list[i][1]))\n",
    "\n",
    "for i in range((len(dependentVars)), 0):\n",
    "    if (dependentVars[i] == 0.000):\n",
    "        del dependentVars[i]\n",
    "        del independentVars[i]"
   ]
  },
  {
   "cell_type": "code",
   "execution_count": 8,
   "metadata": {},
   "outputs": [],
   "source": [
    "a, b, c = np.polyfit(independentVars, dependentVars, 2)\n",
    "independentVars = np.array(independentVars)\n",
    "dependentVars = np.array(dependentVars)"
   ]
  },
  {
   "cell_type": "code",
   "execution_count": 9,
   "metadata": {},
   "outputs": [
    {
     "data": {
      "text/plain": [
       "[<matplotlib.lines.Line2D at 0x225245663a0>]"
      ]
     },
     "execution_count": 9,
     "metadata": {},
     "output_type": "execute_result"
    },
    {
     "data": {
      "image/png": "[encoded data removed]",
      "text/plain": [
       "<Figure size 432x288 with 1 Axes>"
      ]
     },
     "metadata": {
      "needs_background": "light"
     },
     "output_type": "display_data"
    }
   ],
   "source": [
    "# Plot the line and the points.\n",
    "plt.plot(independentVars, dependentVars, 'k.')\n",
    "plt.plot(independentVars, a * independentVars * independentVars + b * independentVars + c, 'r-')"
   ]
  },
  {
   "cell_type": "code",
   "execution_count": 10,
   "metadata": {},
   "outputs": [
    {
     "name": "stdout",
     "output_type": "stream",
     "text": [
      "265989.41437957867\n"
     ]
    },
    {
     "data": {
      "image/png": "[encoded data removed]",
      "text/plain": [
       "<Figure size 432x288 with 1 Axes>"
      ]
     },
     "metadata": {
      "needs_background": "light"
     },
     "output_type": "display_data"
    }
   ],
   "source": [
    "    \n",
    "simpleLinearRegression(independentVars, dependentVars)"
   ]
  },
  {
   "cell_type": "code",
   "execution_count": 11,
   "metadata": {},
   "outputs": [
    {
     "ename": "ValueError",
     "evalue": "cannot delete array elements",
     "output_type": "error",
     "traceback": [
      "\u001b[1;31m---------------------------------------------------------------------------\u001b[0m",
      "\u001b[1;31mValueError\u001b[0m                                Traceback (most recent call last)",
      "\u001b[1;32m<ipython-input-11-d152a21b56a6>\u001b[0m in \u001b[0;36m<module>\u001b[1;34m\u001b[0m\n\u001b[0;32m      1\u001b[0m \u001b[1;32mfor\u001b[0m \u001b[0mi\u001b[0m \u001b[1;32min\u001b[0m \u001b[0mrange\u001b[0m\u001b[1;33m(\u001b[0m\u001b[1;33m(\u001b[0m\u001b[0mlen\u001b[0m\u001b[1;33m(\u001b[0m\u001b[0mdependentVars\u001b[0m\u001b[1;33m)\u001b[0m\u001b[1;33m)\u001b[0m\u001b[1;33m)\u001b[0m\u001b[1;33m:\u001b[0m\u001b[1;33m\u001b[0m\u001b[1;33m\u001b[0m\u001b[0m\n\u001b[0;32m      2\u001b[0m     \u001b[1;32mif\u001b[0m \u001b[1;33m(\u001b[0m\u001b[0mdependentVars\u001b[0m\u001b[1;33m[\u001b[0m\u001b[0mi\u001b[0m\u001b[1;33m]\u001b[0m \u001b[1;33m==\u001b[0m \u001b[1;36m0.000\u001b[0m\u001b[1;33m)\u001b[0m\u001b[1;33m:\u001b[0m\u001b[1;33m\u001b[0m\u001b[1;33m\u001b[0m\u001b[0m\n\u001b[1;32m----> 3\u001b[1;33m         \u001b[1;32mdel\u001b[0m \u001b[0mdependentVars\u001b[0m\u001b[1;33m[\u001b[0m\u001b[0mi\u001b[0m\u001b[1;33m]\u001b[0m\u001b[1;33m\u001b[0m\u001b[1;33m\u001b[0m\u001b[0m\n\u001b[0m\u001b[0;32m      4\u001b[0m         \u001b[1;32mdel\u001b[0m \u001b[0mindependentVars\u001b[0m\u001b[1;33m[\u001b[0m\u001b[0mi\u001b[0m\u001b[1;33m]\u001b[0m\u001b[1;33m\u001b[0m\u001b[1;33m\u001b[0m\u001b[0m\n\u001b[0;32m      5\u001b[0m \u001b[1;33m\u001b[0m\u001b[0m\n",
      "\u001b[1;31mValueError\u001b[0m: cannot delete array elements"
     ]
    }
   ],
   "source": [
    "for i in range((len(dependentVars))):\n",
    "    if (dependentVars[i] == 0.000):\n",
    "        del dependentVars[i]\n",
    "        del independentVars[i]\n",
    "        \n",
    "simpleLinearRegression(independentVars, dependentVars)"
   ]
  },
  {
   "cell_type": "markdown",
   "metadata": {},
   "source": [
    "So here's what has to happen (I think) to make this model fit you need to add extra powers of x with a coeffient. Basically going from a simple line to a quadratic and up and up until you find a good fit....."
   ]
  },
  {
   "cell_type": "code",
   "execution_count": null,
   "metadata": {},
   "outputs": [],
   "source": [
    "minN = 4.331\n",
    "maxN = 109.932\n",
    "\n",
    "Ps = []\n",
    "\n",
    "\n",
    "\n",
    "N_at_speed_s = 1/(((1/minN - 1/maxN)*e**(-r*p)) + 1/maxN)"
   ]
  },
  {
   "cell_type": "code",
   "execution_count": null,
   "metadata": {},
   "outputs": [],
   "source": [
    "def logisticFunction(independentVars, dependentVars, r):\n",
    "    # distance in meters\n",
    "    p = dependentVars\n",
    "    # time in seconds\n",
    "    s  = independentVars\n",
    "    \n",
    "    e = 2.71828\n",
    "    \n",
    "    minN = 4.331\n",
    "    maxN = 109.932\n",
    "\n",
    "    P_s = []\n",
    "    \n",
    "    for i in range(0, len(s)):\n",
    "        \n",
    "        N_at_speed_s = 1/(((1/minN - 1/maxN)*e**(-r*p[i])) + 1/maxN)\n",
    "        P_s.append(N_at_speed_s)\n",
    "        \n",
    "    \n",
    "        \n",
    "    plt.scatter(s, p, c=\"r\")    \n",
    "    plt.plot(s, P_s, c=\"b\")\n",
    "    \n",
    "logisticFunction(independentVars, dependentVars, 0.052)"
   ]
  },
  {
   "cell_type": "markdown",
   "metadata": {},
   "source": [
    "https://www.khanacademy.org/math/ap-calculus-bc/bc-differential-equations-new/bc-7-9/v/solving-logistic-differential-equation-part2"
   ]
  },
  {
   "cell_type": "code",
   "execution_count": null,
   "metadata": {},
   "outputs": [],
   "source": [
    "logisticFunction(independentVars, dependentVars, 0.052)"
   ]
  },
  {
   "cell_type": "markdown",
   "metadata": {},
   "source": [
    "This is so cool"
   ]
  },
  {
   "cell_type": "code",
   "execution_count": null,
   "metadata": {},
   "outputs": [],
   "source": [
    "def Regression(x, y):\n",
    "    # distance in meters\n",
    "    #y = dependentVars\n",
    "    # time in seconds\n",
    "    #x  = independentVars\n",
    "\n",
    "    yhat = []\n",
    "    errors = []\n",
    "    \n",
    "    sumxi = sum(x)\n",
    "    sumyi = sum(y)\n",
    "    meanx = (sum(x)/len(x))\n",
    "    meany = (sum(y)/len(y))\n",
    "    \n",
    "    b3 = ((meany*((sumxi)**3)) - (sumyi*(sumxi**3)))/((meanx*(sumxi**4)) - sumxi**5)\n",
    "    \n",
    "    b2 = ((sumyi*(sumxi**2)) - meany*(sumxi**2) + b3*(meanx*(sumxi**4)) - sumxi**5)/((meanx*(sumxi**3)) - sumxi**4)\n",
    "    \n",
    "    b1 = ((sumxi*sumyi) - (meany * sumxi) + b2 * ((meanx*(sumxi**2)) - sumxi**3) - b3*((meanx*(sumxi**3)) - sumxi**4))/((meanx*sumxi) - sumxi**2)\n",
    "    \n",
    "    b0 = meany - b1*meanx - b2*meanx*(sumxi) - b3*meanx*(sumxi**4)\n",
    "    \n",
    "    for i in range(0, len(x)):\n",
    "        yhat.append(b0 + b1*x[i] + b2*((x[i])**2) + b3*((x[i])**3))\n",
    "        errors.append((y[i] - yhat[i])**2)\n",
    "        \n",
    "    accuarcy = sum(errors)\n",
    "    print(accuarcy)\n",
    "        \n",
    "    plt.scatter(x, y, c=\"r\")    \n",
    "    plt.plot(x, yhat, c=\"m\")\n"
   ]
  },
  {
   "cell_type": "code",
   "execution_count": null,
   "metadata": {},
   "outputs": [],
   "source": [
    "Regression(independentVars, dependentVars)"
   ]
  },
  {
   "cell_type": "markdown",
   "metadata": {},
   "source": [
    "# Regression using scikit-learn notes\n",
    "\n",
    "\n"
   ]
  },
  {
   "cell_type": "code",
   "execution_count": null,
   "metadata": {},
   "outputs": [],
   "source": [
    "len(independentVars)"
   ]
  },
  {
   "cell_type": "code",
   "execution_count": null,
   "metadata": {},
   "outputs": [],
   "source": [
    "dependentVars[453]"
   ]
  },
  {
   "cell_type": "code",
   "execution_count": null,
   "metadata": {},
   "outputs": [],
   "source": [
    "import matplotlib.pyplot as plt\n",
    "import csv\n",
    "import numpy as np\n",
    "\n",
    "\n",
    "with open('powerproduction.csv', 'r', newline='') as file:\n",
    "    has_header = csv.Sniffer().has_header(file.read(1024))\n",
    "    file.seek(0)  # Rewind.\n",
    "    reader = csv.reader(file)\n",
    "    if has_header:\n",
    "        next(reader)\n",
    "    your_list = list(reader)"
   ]
  },
  {
   "cell_type": "code",
   "execution_count": null,
   "metadata": {},
   "outputs": [],
   "source": [
    "len(your_list)"
   ]
  },
  {
   "cell_type": "code",
   "execution_count": 26,
   "metadata": {
    "scrolled": true
   },
   "outputs": [],
   "source": [
    "import matplotlib.pyplot as plt\n",
    "import csv\n",
    "import numpy as np\n",
    "import pandas as pd\n",
    "\n",
    "df = pd.read_csv(\"powerproduction.csv\")\n",
    "\n",
    "    \n",
    "#df = pd.DataFrame(your_list, columns=[\"speed\", \"power\"])\n",
    "df = df[df.power != 0]\n",
    "df = df.sort_values('speed')\n",
    "\n",
    "X = df['speed'].to_numpy()\n",
    "y = df['power'].to_numpy()"
   ]
  },
  {
   "cell_type": "code",
   "execution_count": 27,
   "metadata": {},
   "outputs": [],
   "source": [
    "from sklearn.neighbors import RadiusNeighborsRegressor"
   ]
  },
  {
   "cell_type": "code",
   "execution_count": 34,
   "metadata": {},
   "outputs": [
    {
     "data": {
      "text/plain": [
       "RadiusNeighborsRegressor()"
      ]
     },
     "execution_count": 34,
     "metadata": {},
     "output_type": "execute_result"
    }
   ],
   "source": [
    "neigh = RadiusNeighborsRegressor(radius=1.0)\n",
    "neigh.fit(X.reshape(-1, 1), y)"
   ]
  },
  {
   "cell_type": "code",
   "execution_count": 35,
   "metadata": {},
   "outputs": [
    {
     "data": {
      "text/plain": [
       "16.27213107328979"
      ]
     },
     "execution_count": 35,
     "metadata": {},
     "output_type": "execute_result"
    }
   ],
   "source": [
    "mean_squared_error(y, neigh.predict(X.reshape(-1, 1)))"
   ]
  },
  {
   "cell_type": "code",
   "execution_count": 36,
   "metadata": {},
   "outputs": [],
   "source": [
    "from sklearn.neighbors import KNeighborsRegressor"
   ]
  },
  {
   "cell_type": "code",
   "execution_count": 48,
   "metadata": {},
   "outputs": [
    {
     "data": {
      "text/plain": [
       "KNeighborsRegressor(n_neighbors=2)"
      ]
     },
     "execution_count": 48,
     "metadata": {},
     "output_type": "execute_result"
    }
   ],
   "source": [
    "neigh = KNeighborsRegressor(n_neighbors=2)\n",
    "neigh.fit(X.reshape(-1, 1), y)"
   ]
  },
  {
   "cell_type": "code",
   "execution_count": 49,
   "metadata": {},
   "outputs": [
    {
     "data": {
      "text/plain": [
       "8.118431566518849"
      ]
     },
     "execution_count": 49,
     "metadata": {},
     "output_type": "execute_result"
    }
   ],
   "source": [
    "mean_squared_error(y, neigh.predict(X.reshape(-1, 1)))"
   ]
  },
  {
   "cell_type": "code",
   "execution_count": null,
   "metadata": {},
   "outputs": [],
   "source": []
  },
  {
   "cell_type": "code",
   "execution_count": null,
   "metadata": {},
   "outputs": [],
   "source": []
  },
  {
   "cell_type": "code",
   "execution_count": null,
   "metadata": {},
   "outputs": [],
   "source": []
  },
  {
   "cell_type": "code",
   "execution_count": null,
   "metadata": {},
   "outputs": [],
   "source": []
  },
  {
   "cell_type": "code",
   "execution_count": null,
   "metadata": {},
   "outputs": [],
   "source": []
  },
  {
   "cell_type": "code",
   "execution_count": null,
   "metadata": {},
   "outputs": [],
   "source": []
  },
  {
   "cell_type": "code",
   "execution_count": null,
   "metadata": {},
   "outputs": [],
   "source": []
  },
  {
   "cell_type": "code",
   "execution_count": null,
   "metadata": {},
   "outputs": [],
   "source": []
  },
  {
   "cell_type": "code",
   "execution_count": null,
   "metadata": {},
   "outputs": [],
   "source": []
  },
  {
   "cell_type": "code",
   "execution_count": null,
   "metadata": {},
   "outputs": [],
   "source": [
    "def logisticFunction(independentVars, dependentVars, r):\n",
    "    # distance in meters\n",
    "    p = dependentVars\n",
    "    # time in seconds\n",
    "    s  = independentVars\n",
    "    \n",
    "    e = 2.71828\n",
    "    \n",
    "    minN = 4.331\n",
    "    maxN = 109.932\n",
    "\n",
    "    P_s = []\n",
    "    \n",
    "    for i in range(0, len(s)):\n",
    "        \n",
    "        #N_at_speed_s = 1/(((1/minN - 1/maxN)*e**(-r*p[i])) + 1/maxN)\n",
    "        N_at_speed_s = 1/(((1/minN - 1/maxN)*e**(-r*p[i])) + 1/maxN)\n",
    "        P_s.append(N_at_speed_s)\n",
    "        \n",
    "    \n",
    "        \n",
    "    plt.scatter(s, p, c=\"r\")    \n",
    "    plt.plot(s, P_s, c=\"b\")\n",
    "    \n",
    "logisticFunction(independentVars, dependentVars, 0.063)"
   ]
  },
  {
   "cell_type": "code",
   "execution_count": null,
   "metadata": {},
   "outputs": [],
   "source": [
    "for i in range(len(independentVars)-1):\n",
    "    if independentVars[i] - independentVars[i+1] > 0:\n",
    "        print(True)"
   ]
  },
  {
   "cell_type": "code",
   "execution_count": null,
   "metadata": {},
   "outputs": [],
   "source": [
    "independentVars = df['speed'].to_numpy()\n",
    "dependentVars = df['power'].to_numpy()\n",
    "        \n",
    "a, b, c = np.polyfit(independentVars, dependentVars, 2)\n",
    "independentVars = np.array(independentVars)\n",
    "dependentVars = np.array(dependentVars)\n",
    "# Plot the line and the points.\n",
    "plt.plot(independentVars, dependentVars, 'k.')\n",
    "plt.plot(independentVars, a * independentVars * independentVars + b * independentVars + c, 'r-')"
   ]
  },
  {
   "cell_type": "code",
   "execution_count": null,
   "metadata": {},
   "outputs": [],
   "source": [
    "Regression(independentVars, dependentVars)"
   ]
  },
  {
   "cell_type": "code",
   "execution_count": null,
   "metadata": {},
   "outputs": [],
   "source": []
  },
  {
   "cell_type": "code",
   "execution_count": 12,
   "metadata": {},
   "outputs": [],
   "source": [
    "import matplotlib.pyplot as plt\n",
    "import csv\n",
    "import numpy as np\n",
    "import pandas as pd\n",
    "from sklearn.tree import DecisionTreeRegressor\n",
    "from sklearn.ensemble import AdaBoostRegressor\n",
    "\n",
    "df = pd.read_csv(\"powerproduction.csv\")\n",
    "\n",
    "    \n",
    "#df = pd.DataFrame(your_list, columns=[\"speed\", \"power\"])\n",
    "df = df[df.power != 0]\n",
    "df\n",
    "\n",
    "X = df['speed'].to_numpy()\n",
    "y = df['power'].to_numpy()"
   ]
  },
  {
   "cell_type": "code",
   "execution_count": 13,
   "metadata": {},
   "outputs": [
    {
     "ename": "NameError",
     "evalue": "name 'logisticFunction' is not defined",
     "output_type": "error",
     "traceback": [
      "\u001b[1;31m---------------------------------------------------------------------------\u001b[0m",
      "\u001b[1;31mNameError\u001b[0m                                 Traceback (most recent call last)",
      "\u001b[1;32m<ipython-input-13-9b5df4c27c78>\u001b[0m in \u001b[0;36m<module>\u001b[1;34m\u001b[0m\n\u001b[1;32m----> 1\u001b[1;33m \u001b[0mlogisticFunction\u001b[0m\u001b[1;33m(\u001b[0m\u001b[0mX\u001b[0m\u001b[1;33m,\u001b[0m \u001b[0my\u001b[0m\u001b[1;33m,\u001b[0m \u001b[1;36m0.052\u001b[0m\u001b[1;33m)\u001b[0m\u001b[1;33m\u001b[0m\u001b[1;33m\u001b[0m\u001b[0m\n\u001b[0m",
      "\u001b[1;31mNameError\u001b[0m: name 'logisticFunction' is not defined"
     ]
    }
   ],
   "source": [
    "logisticFunction(X, y, 0.052)"
   ]
  },
  {
   "cell_type": "code",
   "execution_count": 19,
   "metadata": {},
   "outputs": [
    {
     "data": {
      "text/plain": [
       "(1, 451)"
      ]
     },
     "execution_count": 19,
     "metadata": {},
     "output_type": "execute_result"
    }
   ],
   "source": [
    "np.shape(X.reshape(1, -1))[0], np.shape(y)[0]"
   ]
  },
  {
   "cell_type": "code",
   "execution_count": 22,
   "metadata": {},
   "outputs": [
    {
     "data": {
      "image/png": "[encoded data removed]",
      "text/plain": [
       "<Figure size 432x288 with 1 Axes>"
      ]
     },
     "metadata": {
      "needs_background": "light"
     },
     "output_type": "display_data"
    }
   ],
   "source": [
    "# https://scikit-learn.org/stable/auto_examples/ensemble/plot_adaboost_regression.html#sphx-glr-auto-examples-ensemble-plot-adaboost-regression-py\n",
    "# Fit regression model\n",
    "regr_1 = DecisionTreeRegressor(max_depth=4)\n",
    "\n",
    "rng = np.random.RandomState(1)\n",
    "\n",
    "regr_2 = AdaBoostRegressor(DecisionTreeRegressor(max_depth=4),\n",
    "                          n_estimators=300, random_state=2)\n",
    "X = X.reshape(-1, 1)\n",
    "regr_1.fit(X, y)\n",
    "regr_2.fit(X, y)\n",
    "\n",
    "# Predict\n",
    "y_1 = regr_1.predict(X)\n",
    "y_2 = regr_2.predict(X)\n",
    "\n",
    "# Plot the results\n",
    "plt.figure()\n",
    "plt.scatter(X, y, c=\"k\", label=\"training samples\")\n",
    "plt.plot(X, y_1, c=\"g\", label=\"n_estimators=1\", linewidth=2)\n",
    "plt.plot(X, y_2, c=\"r\", label=\"n_estimators=300\", linewidth=2)\n",
    "plt.xlabel(\"data\")\n",
    "plt.ylabel(\"target\")\n",
    "plt.title(\"Boosted Decision Tree Regression\")\n",
    "plt.legend()\n",
    "plt.show()"
   ]
  },
  {
   "cell_type": "code",
   "execution_count": 23,
   "metadata": {},
   "outputs": [],
   "source": [
    "def mean_squared_error(actual, predicted):\n",
    "    \"\"\"\n",
    "    Takes two numpy arrays the actual values and the predicted values to \n",
    "    determine the accuracy of the prediction.\n",
    "    \"\"\"\n",
    "    ms = 0\n",
    "    for point in range(len(actual)):\n",
    "        error = (actual[point] - predicted[point])**2\n",
    "        ms += error\n",
    "        mse = ms/len(actual)\n",
    "    return mse"
   ]
  },
  {
   "cell_type": "code",
   "execution_count": 33,
   "metadata": {},
   "outputs": [
    {
     "data": {
      "text/plain": [
       "16.27213107328979"
      ]
     },
     "execution_count": 33,
     "metadata": {},
     "output_type": "execute_result"
    }
   ],
   "source": [
    "mean_squared_error(y, neigh.predict(X.reshape(-1, 1)))"
   ]
  },
  {
   "cell_type": "code",
   "execution_count": null,
   "metadata": {},
   "outputs": [],
   "source": [
    "data = {'power': [0, 1, 2.1, 10, 0, 0, 3, 4, 5, 0, 0], \n",
    "        'speed': [0, 6.5, 2.7, 23, 20, 50, 60, 70, 80, 90, 100]}\n",
    "df = pd.DataFrame(data)\n",
    "df.sort_values('speed')"
   ]
  },
  {
   "cell_type": "code",
   "execution_count": null,
   "metadata": {},
   "outputs": [],
   "source": [
    "df[:1]\n",
    "\n",
    "nf = df[1:]\n",
    "\n",
    "nz = nf[nf.power != 0]"
   ]
  },
  {
   "cell_type": "code",
   "execution_count": null,
   "metadata": {},
   "outputs": [],
   "source": [
    "#df = df[]\n",
    "#nz = df[1:].power != 0\n",
    "df = pd.concat([df[:1] , nz])\n",
    "df"
   ]
  },
  {
   "cell_type": "code",
   "execution_count": null,
   "metadata": {},
   "outputs": [],
   "source": []
  },
  {
   "cell_type": "code",
   "execution_count": null,
   "metadata": {},
   "outputs": [],
   "source": []
  }
 ],
 "metadata": {
  "kernelspec": {
   "display_name": "Python 3",
   "language": "python",
   "name": "python3"
  },
  "language_info": {
   "codemirror_mode": {
    "name": "ipython",
    "version": 3
   },
   "file_extension": ".py",
   "mimetype": "text/x-python",
   "name": "python",
   "nbconvert_exporter": "python",
   "pygments_lexer": "ipython3",
   "version": "3.8.3"
  }
 },
 "nbformat": 4,
 "nbformat_minor": 4
}
